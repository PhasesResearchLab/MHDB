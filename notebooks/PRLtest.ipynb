{
 "cells": [
  {
   "cell_type": "code",
   "execution_count": 1,
   "metadata": {},
   "outputs": [],
   "source": [
    "import os, sys\n",
    "sys.path.insert(0, '../mhdb')\n",
    "\n",
    "from pycalphad import Database, equilibrium, variables as v\n",
    "from pymongo import MongoClient\n",
    "from core import database, mongo\n",
    "import matplotlib.pyplot as plt\n",
    "\n",
    "client_string = os.getenv('MONGODB_URI')\n",
    "client = MongoClient(client_string)\n",
    "\n",
    "db = client['MHDB'] \n",
    "collections = [db['curated'], db['community']]"
   ]
  },
  {
   "cell_type": "code",
   "execution_count": 10,
   "metadata": {},
   "outputs": [
    {
     "name": "stdout",
     "output_type": "stream",
     "text": [
      "The MHDB-community currently has 1 contributions. \n",
      "\n",
      "[1] The 'La-Ni-H_Ya.tdb' contains 15 phases:\n",
      "{'LANI', 'BCC', 'LA3NI', 'LA7NI3', 'LANI3', 'LIQUID', 'LANI5H7', 'LA5NI19', 'LA2NI7', 'DHCP', 'FCC', 'LA2NI3', 'LAHX', 'LA7NI16', 'LANI5H1-X'} \n",
      "\n"
     ]
    }
   ],
   "source": [
    "entries = collections[1].find({})\n",
    "\n",
    "references = []\n",
    "for entry in entries:\n",
    "    reference = entry['metadata']['parentDatabase']\n",
    "    references.append(reference)\n",
    "\n",
    "print(f'The MHDB-community currently has {len(set(references))} contributions.', '\\n')\n",
    "\n",
    "for i, reference in enumerate(set(references)):\n",
    "    entries = collections[1].find({'metadata.parentDatabase': reference})\n",
    "\n",
    "    systems = []\n",
    "    for entry in entries:\n",
    "        system = entry['material']['system']\n",
    "        if len(system) != 1:\n",
    "            systems.append(entry['material']['phaseLabel'])\n",
    "\n",
    "    print(f\"[{i+1}] The '{reference.split(' | ')[0]}' contains {len(set(systems))} phases:\")\n",
    "    print(set(systems), '\\n')"
   ]
  },
  {
   "cell_type": "code",
   "execution_count": 5,
   "metadata": {},
   "outputs": [],
   "source": [
    "                                                         # INPUT(1): TDB reference and Chemical composition of metal hydride\n",
    "tdb_reference = 'La-Ni-H_Ya.tdb'\n",
    "\n",
    "elements = ['La', 'H', 'Va']"
   ]
  },
  {
   "cell_type": "code",
   "execution_count": 6,
   "metadata": {},
   "outputs": [
    {
     "name": "stdout",
     "output_type": "stream",
     "text": [
      "Data for the following phases were successfully retrieved: ['GAS', 'LIQUID', 'BCC', 'DHCP', 'FCC', 'LAHX']\n"
     ]
    }
   ],
   "source": [
    "regex_pattern = '^(' + '|'.join(elements) + ')(-(' + '|'.join(elements) + '))*$'\n",
    "\n",
    "data_collection = []\n",
    "for collection in collections:\n",
    "    data = collection.find({'$and': [{'material.system': {'$regex': regex_pattern, '$options': 'i'}}, {'metadata.parentDatabase': {'$regex': tdb_reference, '$options': 'i'}}]}, {'tdb': 1, '_id': 0})\n",
    "    data_collection.extend(entry['tdb'] for entry in data)\n",
    "\n",
    "try:\n",
    "    data = database.many2one(elements, data_collection)\n",
    "    data = database.one2tdb(data)\n",
    "\n",
    "    dbf = Database(data)\n",
    "    phases = list(dbf.phases.keys())\n",
    "    print(f'Data for the following phases were successfully retrieved: {phases}')\n",
    "\n",
    "except:\n",
    "    print('No dataset found')"
   ]
  },
  {
   "cell_type": "code",
   "execution_count": 7,
   "metadata": {},
   "outputs": [
    {
     "name": "stdout",
     "output_type": "stream",
     "text": [
      "Elements: ['/-', 'H', 'LA', 'VA']\n",
      "Species: [Species('/-', '/-1'), Species('H', 'H1'), Species('H2', 'H2.0'), Species('LA', 'LA1'), Species('VA', 'VA1')]\n",
      "Phase({'name': 'BCC', 'constituents': (frozenset({Species('LA', 'LA1')}), frozenset({Species('VA', 'VA1'), Species('H', 'H1')})), 'sublattices': (1.0, 3.0), 'model_hints': {}})\n",
      "Phase({'name': 'DHCP', 'constituents': (frozenset({Species('LA', 'LA1')}),), 'sublattices': (1.0,), 'model_hints': {}})\n",
      "Phase({'name': 'FCC', 'constituents': (frozenset({Species('LA', 'LA1')}), frozenset({Species('VA', 'VA1'), Species('H', 'H1')})), 'sublattices': (1.0, 1.0), 'model_hints': {}})\n",
      "Phase({'name': 'GAS', 'constituents': (frozenset({Species('H2', 'H2.0')}),), 'sublattices': (1.0,), 'model_hints': {'gas': True}})\n",
      "Phase({'name': 'LAHX', 'constituents': (frozenset({Species('LA', 'LA1')}), frozenset({Species('VA', 'VA1'), Species('H', 'H1')}), frozenset({Species('VA', 'VA1'), Species('H', 'H1')})), 'sublattices': (0.25, 0.5, 0.25), 'model_hints': {}})\n",
      "Phase({'name': 'LIQUID', 'constituents': (frozenset({Species('H', 'H1'), Species('LA', 'LA1')}),), 'sublattices': (1.0,), 'model_hints': {}})\n",
      "5 symbols in database\n",
      "16 parameters in database\n",
      "\n"
     ]
    }
   ],
   "source": [
    "print(dbf)"
   ]
  }
 ],
 "metadata": {
  "kernelspec": {
   "display_name": "base",
   "language": "python",
   "name": "python3"
  },
  "language_info": {
   "codemirror_mode": {
    "name": "ipython",
    "version": 3
   },
   "file_extension": ".py",
   "mimetype": "text/x-python",
   "name": "python",
   "nbconvert_exporter": "python",
   "pygments_lexer": "ipython3",
   "version": "3.12.2"
  }
 },
 "nbformat": 4,
 "nbformat_minor": 2
}
